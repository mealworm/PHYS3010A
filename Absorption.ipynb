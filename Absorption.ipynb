{
 "cells": [
  {
   "attachments": {},
   "cell_type": "markdown",
   "metadata": {},
   "source": [
    "Name:\n",
    "\n",
    "Student number:"
   ]
  },
  {
   "attachments": {},
   "cell_type": "markdown",
   "metadata": {},
   "source": [
    "# Radiative Transfer: Absorption\n",
    "The radiative transport equation with only absorption is\n",
    "$$\n",
    "\\frac{dI_{\\nu}}{ds}=-\\alpha_{\\nu}I_{\\nu}\n",
    "$$\n",
    "where $I_{\\nu}$ is the specific intensity at frequency $\\nu$, $\\alpha_{\\nu}$ is the absorption coefficient, and $ds$ is the differential path length.\n",
    "\n",
    "Recall that we can interpret the absorption coefficient $\\alpha_{\\nu}$ in terms of probability:\n",
    "$$\n",
    "\\frac{dI_{\\nu}}{I_{\\nu}}=-\\alpha_{\\nu}ds\n",
    "$$\n",
    "If a photon with frequency $\\nu$ travels an infinitesimal path length $ds$ it will have a proabaility $\\alpha_{\\nu}ds$ of being absorbed. Traveling a distance from $s_0$ to $s$ and defining the optical depth \n",
    "$$\n",
    "\\tau_{\\nu} = \\int_{s_0}^{s} \\alpha_{\\nu}(s')ds' = \\alpha_{\\nu}(s-s_0)\n",
    "$$\n",
    "if $\\alpha_{\\nu}$ is constant,\n",
    "\n",
    "we find that the probability of being absorbed is $e^{-\\tau_{\\nu}}$. Therefore if we start with a number of photons $N$ at $s_0$, the number that will reach $s$ is $Ne^{-\\tau_{\\nu}}$. Let us write a program that simulates this scenario for different values of the optical depth $\\tau_{\\nu}$, from optically thin ($\\tau_{\\nu}\\ll 1$) to optically thick ($\\tau_{\\nu}\\gg 1$).\n"
   ]
  },
  {
   "cell_type": "markdown",
   "metadata": {},
   "source": [
    "## Pre-Requisites\n",
    "As usual, we start with importing the necessary modules."
   ]
  },
  {
   "cell_type": "code",
   "execution_count": null,
   "metadata": {},
   "outputs": [],
   "source": [
    "from astropy import units as u\n",
    "from astropy import constants as c\n",
    "\n",
    "import numpy as np\n",
    "import random\n",
    "\n",
    "import matplotlib.pyplot as plt\n",
    "\n",
    "from math import pi\n",
    "from numpy import exp, expm1, log"
   ]
  },
  {
   "cell_type": "markdown",
   "metadata": {},
   "source": [
    "### Exercise 1\n",
    "Write a function to calculate the absorption coefficient $\\alpha_{\\nu}$ in terms of the opacity $\\tau_{\\nu}$ and the path length. You may assume that $\\alpha_{\\nu}$ and $\\tau_{\\nu}$ are constant over the path length."
   ]
  },
  {
   "cell_type": "code",
   "execution_count": null,
   "metadata": {},
   "outputs": [],
   "source": [
    "def alpha(tau, length) :\n",
    "    \n",
    "    # your code here\n",
    "    alpha = 0 # replace with the appropriate function of tau and length\n",
    "    \n",
    "    return alpha"
   ]
  },
  {
   "cell_type": "markdown",
   "metadata": {},
   "source": [
    "Recall that the local mean free path is the reciprocal of the absorption coefficient. Let's calculate the local mean free path in the optically thin and optically thick cases."
   ]
  },
  {
   "cell_type": "code",
   "execution_count": null,
   "metadata": {},
   "outputs": [],
   "source": [
    "1.0/alpha(0.1,50.0*u.m)  # tau = 0.1 << 1\n"
   ]
  },
  {
   "cell_type": "code",
   "execution_count": null,
   "metadata": {},
   "outputs": [],
   "source": [
    "1.0/alpha(10.0,50.0*u.m) # tau = 10 >> 1"
   ]
  },
  {
   "cell_type": "markdown",
   "metadata": {},
   "source": [
    "### Exercise 2\n",
    "Now let's write a function to calculate the differential probability of a photon being absorbed after traveling an infinitesimal path length."
   ]
  },
  {
   "cell_type": "code",
   "execution_count": null,
   "metadata": {},
   "outputs": [],
   "source": [
    "def diff_prob(alpha, diff_path) : \n",
    "\n",
    "    #your code here\n",
    "    return 0 # replace with differential probability as a function of absorption coefficient and path length"
   ]
  },
  {
   "cell_type": "markdown",
   "metadata": {},
   "source": [
    "Let's write a function that determines the fraction of photons able to pass through a medium with optical depth $\\tau_{\\nu}$ without being absorbed. We'll fix the length of the medium to be 50 m and adjust the aborption coefficient to match the optical depth."
   ]
  },
  {
   "cell_type": "code",
   "execution_count": null,
   "metadata": {},
   "outputs": [],
   "source": [
    "def fraction_not_absorbed(tau) : \n",
    "    nphot   = 1000         # generate 10000 photons\n",
    "    length  = 50.0 * u.m\n",
    "    step    = 1.0 * u.m     # Each differential step will be 1 m, meaning 50 steps from beginning to end.\n",
    "    number_absorbed = 0.0   # A running count of the number of photons absorbed\n",
    "    step_prob = diff_prob(alpha(tau, length), step)     # The probability of being absorbed at each step\n",
    "    for photon in range(nphot): \n",
    "        travelled = 0.0 * u.m               # Start from the beginning\n",
    "        while (travelled < length) :        # Keep going until either the photon is absorbed or the end is reached\n",
    "            travelled = travelled + step    # Step forward\n",
    "            prob = random.random()          # A random number between 0 and 1\n",
    "            if ( prob < step_prob ):        # If the random number is less than the probability, then the photon is absorbed\n",
    "                number_absorbed = number_absorbed + 1.0 # Count the photon as having been absorbed\n",
    "                break                       # Skip to the next photon\n",
    "    return 1 - number_absorbed/nphot        # The fraction not absorbed is 1 - (the number absorbed / the total number)\n",
    "          \n",
    "\n",
    "\n"
   ]
  },
  {
   "cell_type": "markdown",
   "metadata": {},
   "source": [
    "## Exercise 3\n",
    "Write a function that predicts the fraction of photons calculated in the function above using a mathematical expression."
   ]
  },
  {
   "cell_type": "code",
   "execution_count": null,
   "metadata": {},
   "outputs": [],
   "source": [
    "def fraction_predicted(tau) :\n",
    "    \n",
    "    # your code here\n",
    "    return 0 # replace with predicted fraction of photons not absorbed as a function of optical depth"
   ]
  },
  {
   "cell_type": "markdown",
   "metadata": {},
   "source": [
    "Now let's calculate the fraction for a range of values of optical depth and compare it to our predicted value."
   ]
  },
  {
   "cell_type": "code",
   "execution_count": null,
   "metadata": {},
   "outputs": [],
   "source": [
    "\n",
    "seed    = 333\n",
    "random.seed(seed) \n",
    "taurange = np.arange(0.0, 3.0, 0.1)     # Values of the optical depth\n",
    "not_absorbed = []                       # Array of values of the fraction not absorbed\n",
    "predicted = []                          # Predicted values of the fraction not absorbed\n",
    "\n",
    "for tau in taurange:\n",
    "    not_absorbed.append(fraction_not_absorbed(tau))\n",
    "    predicted.append(fraction_predicted(tau))"
   ]
  },
  {
   "cell_type": "markdown",
   "metadata": {},
   "source": [
    "Let's plot the result."
   ]
  },
  {
   "cell_type": "code",
   "execution_count": null,
   "metadata": {
    "tags": []
   },
   "outputs": [],
   "source": [
    "plt.plot(taurange, not_absorbed, label = 'Observed')\n",
    "plt.plot(taurange, predicted, label = 'Predicted')\n",
    "plt.xlabel('optical depth')\n",
    "plt.ylabel('fraction not absorbed')\n",
    "plt.legend()\n"
   ]
  },
  {
   "cell_type": "code",
   "execution_count": null,
   "metadata": {},
   "outputs": [],
   "source": []
  }
 ],
 "metadata": {
  "kernelspec": {
   "display_name": "Python 3",
   "language": "python",
   "name": "python3"
  },
  "language_info": {
   "codemirror_mode": {
    "name": "ipython",
    "version": 3
   },
   "file_extension": ".py",
   "mimetype": "text/x-python",
   "name": "python",
   "nbconvert_exporter": "python",
   "pygments_lexer": "ipython3",
   "version": "3.8.0"
  },
  "vscode": {
   "interpreter": {
    "hash": "dc75110f90965b65dadca4ce910813c49066aba769bfebc58cd97743b8b3e8e6"
   }
  }
 },
 "nbformat": 4,
 "nbformat_minor": 4
}
