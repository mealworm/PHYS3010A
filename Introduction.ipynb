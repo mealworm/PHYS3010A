{
 "cells": [
  {
   "cell_type": "markdown",
   "metadata": {},
   "source": [
    "# Introduction\n",
    "In this lesson we will take a look at some simple calculations with astropy and numpy. This jupyter notebook contains two exercises for 6 marks. Submit your work on Ulwazi."
   ]
  },
  {
   "cell_type": "markdown",
   "metadata": {},
   "source": [
    "## Pre-requisites\n",
    "First we need to load the modules we need. We can also check whether loading was succeful and the version of the imported module."
   ]
  },
  {
   "cell_type": "code",
   "execution_count": 1,
   "metadata": {},
   "outputs": [
    {
     "data": {
      "text/plain": [
       "'6.0.1'"
      ]
     },
     "execution_count": 1,
     "metadata": {},
     "output_type": "execute_result"
    }
   ],
   "source": [
    "import astropy\n",
    "astropy.__version__"
   ]
  },
  {
   "cell_type": "markdown",
   "metadata": {},
   "source": [
    "numpy is typically imported as np:"
   ]
  },
  {
   "cell_type": "code",
   "execution_count": 2,
   "metadata": {},
   "outputs": [
    {
     "data": {
      "text/plain": [
       "'1.26.4'"
      ]
     },
     "execution_count": 2,
     "metadata": {},
     "output_type": "execute_result"
    }
   ],
   "source": [
    "import numpy as np\n",
    "np.__version__"
   ]
  },
  {
   "cell_type": "markdown",
   "metadata": {},
   "source": [
    "We will use matplotlib for plotting:"
   ]
  },
  {
   "cell_type": "code",
   "execution_count": 3,
   "metadata": {},
   "outputs": [
    {
     "data": {
      "text/plain": [
       "'3.8.4'"
      ]
     },
     "execution_count": 3,
     "metadata": {},
     "output_type": "execute_result"
    }
   ],
   "source": [
    "import matplotlib\n",
    "matplotlib.__version__"
   ]
  },
  {
   "cell_type": "markdown",
   "metadata": {},
   "source": [
    "From the astropy module we need only the units and the constants, we will import them as u and c."
   ]
  },
  {
   "cell_type": "code",
   "execution_count": 4,
   "metadata": {},
   "outputs": [],
   "source": [
    "from astropy import units as u\n",
    "from astropy import constants as c"
   ]
  },
  {
   "cell_type": "markdown",
   "metadata": {},
   "source": [
    "We will need $\\pi$, we import it from the math module."
   ]
  },
  {
   "cell_type": "code",
   "execution_count": 5,
   "metadata": {},
   "outputs": [],
   "source": [
    "from math import pi"
   ]
  },
  {
   "cell_type": "markdown",
   "metadata": {},
   "source": [
    "We will certainly need some basic functions. Importing them from numpy will allow us to use them with units."
   ]
  },
  {
   "cell_type": "code",
   "execution_count": 6,
   "metadata": {},
   "outputs": [],
   "source": [
    "from numpy import sqrt, cos, sin, tan"
   ]
  },
  {
   "cell_type": "markdown",
   "metadata": {},
   "source": [
    "## Properties of Light"
   ]
  },
  {
   "cell_type": "markdown",
   "metadata": {},
   "source": [
    "Let's take the example of the laser pointer. The wavelength is 650 nm. We will define a variable for the wavelength. As lambda is a reserved keyword in python, we cannot use it. We will use lam instead."
   ]
  },
  {
   "cell_type": "code",
   "execution_count": 7,
   "metadata": {},
   "outputs": [],
   "source": [
    "lam = 650 * u.nm"
   ]
  },
  {
   "cell_type": "markdown",
   "metadata": {},
   "source": [
    "The frequency, nu,  is the speed of light divided by the wavelength. We find the speed of light in the astropy.constants:"
   ]
  },
  {
   "cell_type": "code",
   "execution_count": 8,
   "metadata": {},
   "outputs": [
    {
     "data": {
      "text/latex": [
       "$2.9979246 \\times 10^{8} \\; \\mathrm{\\frac{m}{s}}$"
      ],
      "text/plain": [
       "<<class 'astropy.constants.codata2018.CODATA2018'> name='Speed of light in vacuum' value=299792458.0 uncertainty=0.0 unit='m / s' reference='CODATA 2018'>"
      ]
     },
     "execution_count": 8,
     "metadata": {},
     "output_type": "execute_result"
    }
   ],
   "source": [
    "c.c"
   ]
  },
  {
   "cell_type": "code",
   "execution_count": 9,
   "metadata": {},
   "outputs": [],
   "source": [
    "nu = c.c / lam"
   ]
  },
  {
   "cell_type": "code",
   "execution_count": 10,
   "metadata": {},
   "outputs": [
    {
     "data": {
      "text/latex": [
       "$461219.17 \\; \\mathrm{\\frac{m}{nm\\,s}}$"
      ],
      "text/plain": [
       "<Quantity 461219.16615385 m / (nm s)>"
      ]
     },
     "execution_count": 10,
     "metadata": {},
     "output_type": "execute_result"
    }
   ],
   "source": [
    "nu"
   ]
  },
  {
   "cell_type": "markdown",
   "metadata": {},
   "source": [
    "Note that the calculation was done with the units. We just need to convert into the units we want:"
   ]
  },
  {
   "cell_type": "code",
   "execution_count": 11,
   "metadata": {},
   "outputs": [
    {
     "data": {
      "text/latex": [
       "$4.6121917 \\times 10^{14} \\; \\mathrm{\\frac{1}{s}}$"
      ],
      "text/plain": [
       "<Quantity 4.61219166e+14 1 / s>"
      ]
     },
     "execution_count": 11,
     "metadata": {},
     "output_type": "execute_result"
    }
   ],
   "source": [
    "nu.decompose()"
   ]
  },
  {
   "cell_type": "code",
   "execution_count": 12,
   "metadata": {},
   "outputs": [
    {
     "data": {
      "text/latex": [
       "$4.6121917 \\times 10^{14} \\; \\mathrm{Hz}$"
      ],
      "text/plain": [
       "<Quantity 4.61219166e+14 Hz>"
      ]
     },
     "execution_count": 12,
     "metadata": {},
     "output_type": "execute_result"
    }
   ],
   "source": [
    "nu.to(u.Hz)"
   ]
  },
  {
   "cell_type": "markdown",
   "metadata": {},
   "source": [
    "The energy of the photon is the frequency multiplied with Planck's constant, which we find in astropy.constants as well:"
   ]
  },
  {
   "cell_type": "code",
   "execution_count": 13,
   "metadata": {},
   "outputs": [
    {
     "data": {
      "text/latex": [
       "$6.6260701 \\times 10^{-34} \\; \\mathrm{J\\,s}$"
      ],
      "text/plain": [
       "<<class 'astropy.constants.codata2018.CODATA2018'> name='Planck constant' value=6.62607015e-34 uncertainty=0.0 unit='J s' reference='CODATA 2018'>"
      ]
     },
     "execution_count": 13,
     "metadata": {},
     "output_type": "execute_result"
    }
   ],
   "source": [
    "c.h"
   ]
  },
  {
   "cell_type": "code",
   "execution_count": 14,
   "metadata": {},
   "outputs": [],
   "source": [
    "E = c.h * nu"
   ]
  },
  {
   "cell_type": "code",
   "execution_count": 15,
   "metadata": {},
   "outputs": [
    {
     "data": {
      "text/latex": [
       "$3.0560705 \\times 10^{-28} \\; \\mathrm{\\frac{J\\,m}{nm}}$"
      ],
      "text/plain": [
       "<Quantity 3.05607055e-28 J m / nm>"
      ]
     },
     "execution_count": 15,
     "metadata": {},
     "output_type": "execute_result"
    }
   ],
   "source": [
    "E"
   ]
  },
  {
   "cell_type": "code",
   "execution_count": 16,
   "metadata": {},
   "outputs": [
    {
     "data": {
      "text/latex": [
       "$3.0560705 \\times 10^{-19} \\; \\mathrm{J}$"
      ],
      "text/plain": [
       "<Quantity 3.05607055e-19 J>"
      ]
     },
     "execution_count": 16,
     "metadata": {},
     "output_type": "execute_result"
    }
   ],
   "source": [
    "E.to(u.J)"
   ]
  },
  {
   "cell_type": "code",
   "execution_count": 17,
   "metadata": {},
   "outputs": [
    {
     "data": {
      "text/latex": [
       "$1.9074492 \\; \\mathrm{eV}$"
      ],
      "text/plain": [
       "<Quantity 1.90744921 eV>"
      ]
     },
     "execution_count": 17,
     "metadata": {},
     "output_type": "execute_result"
    }
   ],
   "source": [
    "E.to(u.eV)"
   ]
  },
  {
   "cell_type": "code",
   "execution_count": 18,
   "metadata": {},
   "outputs": [
    {
     "data": {
      "text/latex": [
       "$3.0560705 \\times 10^{-12} \\; \\mathrm{erg}$"
      ],
      "text/plain": [
       "<Quantity 3.05607055e-12 erg>"
      ]
     },
     "execution_count": 18,
     "metadata": {},
     "output_type": "execute_result"
    }
   ],
   "source": [
    "E.to(u.erg)"
   ]
  },
  {
   "cell_type": "markdown",
   "metadata": {},
   "source": [
    "The laser pointer has a power of 1 mW, this means that 1 mJ is radiated every second. To know how many photons are emitted every second we divide the power by the energy per photon:"
   ]
  },
  {
   "cell_type": "code",
   "execution_count": 19,
   "metadata": {},
   "outputs": [],
   "source": [
    "P = 1 * u.mW"
   ]
  },
  {
   "cell_type": "code",
   "execution_count": 20,
   "metadata": {},
   "outputs": [],
   "source": [
    "N = P/E"
   ]
  },
  {
   "cell_type": "code",
   "execution_count": 21,
   "metadata": {},
   "outputs": [
    {
     "data": {
      "text/latex": [
       "$3.2721758 \\times 10^{27} \\; \\mathrm{\\frac{mW\\,nm}{J\\,m}}$"
      ],
      "text/plain": [
       "<Quantity 3.27217577e+27 mW nm / (J m)>"
      ]
     },
     "execution_count": 21,
     "metadata": {},
     "output_type": "execute_result"
    }
   ],
   "source": [
    "N"
   ]
  },
  {
   "cell_type": "code",
   "execution_count": 22,
   "metadata": {},
   "outputs": [
    {
     "data": {
      "text/latex": [
       "$3.2721758 \\times 10^{15} \\; \\mathrm{\\frac{1}{s}}$"
      ],
      "text/plain": [
       "<Quantity 3.27217577e+15 1 / s>"
      ]
     },
     "execution_count": 22,
     "metadata": {},
     "output_type": "execute_result"
    }
   ],
   "source": [
    "N.decompose()"
   ]
  },
  {
   "cell_type": "markdown",
   "metadata": {},
   "source": [
    "### Using numpy arrays and quantities\n",
    "Imagine you want to calculate the energies corresponding to many wavelengths. You can use arrays for that. Note that you cannot combine values with different units, even if they have the same dimension."
   ]
  },
  {
   "cell_type": "code",
   "execution_count": 23,
   "metadata": {},
   "outputs": [],
   "source": [
    "lam = [1,10,100,1000]*u.nm"
   ]
  },
  {
   "cell_type": "code",
   "execution_count": 24,
   "metadata": {},
   "outputs": [
    {
     "data": {
      "text/latex": [
       "$[1,~10,~100,~1000] \\; \\mathrm{nm}$"
      ],
      "text/plain": [
       "<Quantity [   1.,   10.,  100., 1000.] nm>"
      ]
     },
     "execution_count": 24,
     "metadata": {},
     "output_type": "execute_result"
    }
   ],
   "source": [
    "lam"
   ]
  },
  {
   "cell_type": "code",
   "execution_count": 25,
   "metadata": {},
   "outputs": [],
   "source": [
    "E = c.h * c.c / lam"
   ]
  },
  {
   "cell_type": "code",
   "execution_count": 26,
   "metadata": {},
   "outputs": [
    {
     "data": {
      "text/latex": [
       "$[1239.842,~123.9842,~12.39842,~1.239842] \\; \\mathrm{eV}$"
      ],
      "text/plain": [
       "<Quantity [1239.84198433,  123.98419843,   12.39841984,    1.23984198] eV>"
      ]
     },
     "execution_count": 26,
     "metadata": {},
     "output_type": "execute_result"
    }
   ],
   "source": [
    "E.to(u.eV)"
   ]
  },
  {
   "cell_type": "markdown",
   "metadata": {},
   "source": [
    "## Particle Distributions (photons, electrons, protons)\n",
    "In this course we will not discuss photons of a single energy, but particle distributions of photons, electrons or protons. We will study the particles over several orders of magnitude in energy, let's say from 1 MeV (10⁶ eV) to 100 TeV (10¹⁴ eV). We will create a log space with 15 data points:"
   ]
  },
  {
   "cell_type": "code",
   "execution_count": 27,
   "metadata": {},
   "outputs": [],
   "source": [
    "energies = np.logspace(6, 14, 81) * u.eV"
   ]
  },
  {
   "cell_type": "code",
   "execution_count": 29,
   "metadata": {},
   "outputs": [
    {
     "data": {
      "text/latex": [
       "$[1000000,~1258925.4,~1584893.2,~1995262.3,~2511886.4,~3162277.7,~3981071.7,~5011872.3,~6309573.4,~7943282.3,~10000000,~12589254,~15848932,~19952623,~25118864,~31622777,~39810717,~50118723,~63095734,~79432823,~1 \\times 10^{8},~1.2589254 \\times 10^{8},~1.5848932 \\times 10^{8},~1.9952623 \\times 10^{8},~2.5118864 \\times 10^{8},~3.1622777 \\times 10^{8},~3.9810717 \\times 10^{8},~5.0118723 \\times 10^{8},~6.3095734 \\times 10^{8},~7.9432823 \\times 10^{8},~1 \\times 10^{9},~1.2589254 \\times 10^{9},~1.5848932 \\times 10^{9},~1.9952623 \\times 10^{9},~2.5118864 \\times 10^{9},~3.1622777 \\times 10^{9},~3.9810717 \\times 10^{9},~5.0118723 \\times 10^{9},~6.3095734 \\times 10^{9},~7.9432823 \\times 10^{9},~1 \\times 10^{10},~1.2589254 \\times 10^{10},~1.5848932 \\times 10^{10},~1.9952623 \\times 10^{10},~2.5118864 \\times 10^{10},~3.1622777 \\times 10^{10},~3.9810717 \\times 10^{10},~5.0118723 \\times 10^{10},~6.3095734 \\times 10^{10},~7.9432823 \\times 10^{10},~1 \\times 10^{11},~1.2589254 \\times 10^{11},~1.5848932 \\times 10^{11},~1.9952623 \\times 10^{11},~2.5118864 \\times 10^{11},~3.1622777 \\times 10^{11},~3.9810717 \\times 10^{11},~5.0118723 \\times 10^{11},~6.3095734 \\times 10^{11},~7.9432823 \\times 10^{11},~1 \\times 10^{12},~1.2589254 \\times 10^{12},~1.5848932 \\times 10^{12},~1.9952623 \\times 10^{12},~2.5118864 \\times 10^{12},~3.1622777 \\times 10^{12},~3.9810717 \\times 10^{12},~5.0118723 \\times 10^{12},~6.3095734 \\times 10^{12},~7.9432823 \\times 10^{12},~1 \\times 10^{13},~1.2589254 \\times 10^{13},~1.5848932 \\times 10^{13},~1.9952623 \\times 10^{13},~2.5118864 \\times 10^{13},~3.1622777 \\times 10^{13},~3.9810717 \\times 10^{13},~5.0118723 \\times 10^{13},~6.3095734 \\times 10^{13},~7.9432823 \\times 10^{13},~1 \\times 10^{14}] \\; \\mathrm{eV}$"
      ],
      "text/plain": [
       "<Quantity [1.00000000e+06, 1.25892541e+06, 1.58489319e+06, 1.99526231e+06,\n",
       "           2.51188643e+06, 3.16227766e+06, 3.98107171e+06, 5.01187234e+06,\n",
       "           6.30957344e+06, 7.94328235e+06, 1.00000000e+07, 1.25892541e+07,\n",
       "           1.58489319e+07, 1.99526231e+07, 2.51188643e+07, 3.16227766e+07,\n",
       "           3.98107171e+07, 5.01187234e+07, 6.30957344e+07, 7.94328235e+07,\n",
       "           1.00000000e+08, 1.25892541e+08, 1.58489319e+08, 1.99526231e+08,\n",
       "           2.51188643e+08, 3.16227766e+08, 3.98107171e+08, 5.01187234e+08,\n",
       "           6.30957344e+08, 7.94328235e+08, 1.00000000e+09, 1.25892541e+09,\n",
       "           1.58489319e+09, 1.99526231e+09, 2.51188643e+09, 3.16227766e+09,\n",
       "           3.98107171e+09, 5.01187234e+09, 6.30957344e+09, 7.94328235e+09,\n",
       "           1.00000000e+10, 1.25892541e+10, 1.58489319e+10, 1.99526231e+10,\n",
       "           2.51188643e+10, 3.16227766e+10, 3.98107171e+10, 5.01187234e+10,\n",
       "           6.30957344e+10, 7.94328235e+10, 1.00000000e+11, 1.25892541e+11,\n",
       "           1.58489319e+11, 1.99526231e+11, 2.51188643e+11, 3.16227766e+11,\n",
       "           3.98107171e+11, 5.01187234e+11, 6.30957344e+11, 7.94328235e+11,\n",
       "           1.00000000e+12, 1.25892541e+12, 1.58489319e+12, 1.99526231e+12,\n",
       "           2.51188643e+12, 3.16227766e+12, 3.98107171e+12, 5.01187234e+12,\n",
       "           6.30957344e+12, 7.94328235e+12, 1.00000000e+13, 1.25892541e+13,\n",
       "           1.58489319e+13, 1.99526231e+13, 2.51188643e+13, 3.16227766e+13,\n",
       "           3.98107171e+13, 5.01187234e+13, 6.30957344e+13, 7.94328235e+13,\n",
       "           1.00000000e+14] eV>"
      ]
     },
     "execution_count": 29,
     "metadata": {},
     "output_type": "execute_result"
    }
   ],
   "source": [
    "energies"
   ]
  },
  {
   "cell_type": "markdown",
   "metadata": {},
   "source": [
    "We study non-thermal emission, so our photons will not follow a block-body spectrum but typically a power law. A power law has the following form:\n",
    "$$ F(E) = A \\times \\left( \\frac{E}{E_0} \\right)^{-\\Gamma} $$\n",
    "$A$ is the amplitude, i.e. the function's value at the reference energy $E_0$. $\\Gamma$ is called the spectral index. Note the minus sign in the exponent, so $\\Gamma$ is typically positive. We often use 1 TeV as reference energy:"
   ]
  },
  {
   "cell_type": "code",
   "execution_count": 30,
   "metadata": {},
   "outputs": [],
   "source": [
    "E_0 = 1 * u.TeV"
   ]
  },
  {
   "cell_type": "markdown",
   "metadata": {},
   "source": [
    "Let's define some example parameters:"
   ]
  },
  {
   "cell_type": "code",
   "execution_count": 31,
   "metadata": {},
   "outputs": [],
   "source": [
    "A = 10 / u.TeV\n",
    "Gamma = 2.5"
   ]
  },
  {
   "cell_type": "markdown",
   "metadata": {},
   "source": [
    "A power law is already defined in astropy. Let's make use of it."
   ]
  },
  {
   "cell_type": "code",
   "execution_count": 32,
   "metadata": {},
   "outputs": [],
   "source": [
    "from astropy.modeling.powerlaws import PowerLaw1D"
   ]
  },
  {
   "cell_type": "code",
   "execution_count": 33,
   "metadata": {},
   "outputs": [],
   "source": [
    "PL = PowerLaw1D(A, E_0, Gamma)"
   ]
  },
  {
   "cell_type": "markdown",
   "metadata": {},
   "source": [
    "Now we can call this function on our energy array defined above:"
   ]
  },
  {
   "cell_type": "code",
   "execution_count": 34,
   "metadata": {},
   "outputs": [],
   "source": [
    "y = PL(energies)"
   ]
  },
  {
   "cell_type": "code",
   "execution_count": 35,
   "metadata": {},
   "outputs": [
    {
     "data": {
      "text/latex": [
       "$[1 \\times 10^{16},~5.6234133 \\times 10^{15},~3.1622777 \\times 10^{15},~1.7782794 \\times 10^{15},~1 \\times 10^{15},~5.6234133 \\times 10^{14},~3.1622777 \\times 10^{14},~1.7782794 \\times 10^{14},~1 \\times 10^{14},~5.6234133 \\times 10^{13},~3.1622777 \\times 10^{13},~1.7782794 \\times 10^{13},~1 \\times 10^{13},~5.6234133 \\times 10^{12},~3.1622777 \\times 10^{12},~1.7782794 \\times 10^{12},~1 \\times 10^{12},~5.6234133 \\times 10^{11},~3.1622777 \\times 10^{11},~1.7782794 \\times 10^{11},~1 \\times 10^{11},~5.6234133 \\times 10^{10},~3.1622777 \\times 10^{10},~1.7782794 \\times 10^{10},~1 \\times 10^{10},~5.6234133 \\times 10^{9},~3.1622777 \\times 10^{9},~1.7782794 \\times 10^{9},~1 \\times 10^{9},~5.6234133 \\times 10^{8},~3.1622777 \\times 10^{8},~1.7782794 \\times 10^{8},~1 \\times 10^{8},~56234133,~31622777,~17782794,~10000000,~5623413.3,~3162277.7,~1778279.4,~1000000,~562341.33,~316227.77,~177827.94,~100000,~56234.133,~31622.777,~17782.794,~10000,~5623.4133,~3162.2777,~1778.2794,~1000,~562.34133,~316.22777,~177.82794,~100,~56.234133,~31.622777,~17.782794,~10,~5.6234133,~3.1622777,~1.7782794,~1,~0.56234133,~0.31622777,~0.17782794,~0.1,~0.056234133,~0.031622777,~0.017782794,~0.01,~0.0056234133,~0.0031622777,~0.0017782794,~0.001,~0.00056234133,~0.00031622777,~0.00017782794,~0.0001] \\; \\mathrm{\\frac{1}{TeV}}$"
      ],
      "text/plain": [
       "<Quantity [1.00000000e+16, 5.62341325e+15, 3.16227766e+15, 1.77827941e+15,\n",
       "           1.00000000e+15, 5.62341325e+14, 3.16227766e+14, 1.77827941e+14,\n",
       "           1.00000000e+14, 5.62341325e+13, 3.16227766e+13, 1.77827941e+13,\n",
       "           1.00000000e+13, 5.62341325e+12, 3.16227766e+12, 1.77827941e+12,\n",
       "           1.00000000e+12, 5.62341325e+11, 3.16227766e+11, 1.77827941e+11,\n",
       "           1.00000000e+11, 5.62341325e+10, 3.16227766e+10, 1.77827941e+10,\n",
       "           1.00000000e+10, 5.62341325e+09, 3.16227766e+09, 1.77827941e+09,\n",
       "           1.00000000e+09, 5.62341325e+08, 3.16227766e+08, 1.77827941e+08,\n",
       "           1.00000000e+08, 5.62341325e+07, 3.16227766e+07, 1.77827941e+07,\n",
       "           1.00000000e+07, 5.62341325e+06, 3.16227766e+06, 1.77827941e+06,\n",
       "           1.00000000e+06, 5.62341325e+05, 3.16227766e+05, 1.77827941e+05,\n",
       "           1.00000000e+05, 5.62341325e+04, 3.16227766e+04, 1.77827941e+04,\n",
       "           1.00000000e+04, 5.62341325e+03, 3.16227766e+03, 1.77827941e+03,\n",
       "           1.00000000e+03, 5.62341325e+02, 3.16227766e+02, 1.77827941e+02,\n",
       "           1.00000000e+02, 5.62341325e+01, 3.16227766e+01, 1.77827941e+01,\n",
       "           1.00000000e+01, 5.62341325e+00, 3.16227766e+00, 1.77827941e+00,\n",
       "           1.00000000e+00, 5.62341325e-01, 3.16227766e-01, 1.77827941e-01,\n",
       "           1.00000000e-01, 5.62341325e-02, 3.16227766e-02, 1.77827941e-02,\n",
       "           1.00000000e-02, 5.62341325e-03, 3.16227766e-03, 1.77827941e-03,\n",
       "           1.00000000e-03, 5.62341325e-04, 3.16227766e-04, 1.77827941e-04,\n",
       "           1.00000000e-04] 1 / TeV>"
      ]
     },
     "execution_count": 35,
     "metadata": {},
     "output_type": "execute_result"
    }
   ],
   "source": [
    "y"
   ]
  },
  {
   "cell_type": "markdown",
   "metadata": {},
   "source": [
    "### Plotting\n",
    "We will use pyplot from matplotlib to do some plotting. pyplot is usually imported as plt:"
   ]
  },
  {
   "cell_type": "code",
   "execution_count": 36,
   "metadata": {},
   "outputs": [],
   "source": [
    "import matplotlib.pyplot as plt"
   ]
  },
  {
   "cell_type": "markdown",
   "metadata": {},
   "source": [
    "Let's make a plot of our y value over our energy array:"
   ]
  },
  {
   "cell_type": "code",
   "execution_count": 37,
   "metadata": {},
   "outputs": [
    {
     "data": {
      "text/plain": [
       "[<matplotlib.lines.Line2D at 0x7fb06d121660>]"
      ]
     },
     "execution_count": 37,
     "metadata": {},
     "output_type": "execute_result"
    },
    {
     "data": {
      "image/png": "[encoded data removed]",
      "text/plain": [
       "<Figure size 640x480 with 1 Axes>"
      ]
     },
     "metadata": {},
     "output_type": "display_data"
    }
   ],
   "source": [
    "plt.plot(energies, y)"
   ]
  },
  {
   "cell_type": "markdown",
   "metadata": {},
   "source": [
    "This looks a bit strange. Keep in mind that our energies span 14 orders of magnitude. Let's try to get the energy axis in log scale:"
   ]
  },
  {
   "cell_type": "code",
   "execution_count": 38,
   "metadata": {},
   "outputs": [
    {
     "data": {
      "image/png": "[encoded data removed]",
      "text/plain": [
       "<Figure size 640x480 with 1 Axes>"
      ]
     },
     "metadata": {},
     "output_type": "display_data"
    }
   ],
   "source": [
    "plt.plot(energies, y)\n",
    "plt.xscale('log')"
   ]
  },
  {
   "cell_type": "markdown",
   "metadata": {},
   "source": [
    "Looks better already. But is our function really zero above an energy of 10^7 eV? Let's try a log-log plot:"
   ]
  },
  {
   "cell_type": "code",
   "execution_count": 39,
   "metadata": {},
   "outputs": [
    {
     "data": {
      "image/png": "[encoded data removed]",
      "text/plain": [
       "<Figure size 640x480 with 1 Axes>"
      ]
     },
     "metadata": {},
     "output_type": "display_data"
    }
   ],
   "source": [
    "plt.plot(energies, y)\n",
    "plt.xscale('log')\n",
    "plt.yscale('log')"
   ]
  },
  {
   "cell_type": "markdown",
   "metadata": {},
   "source": [
    "Looks good. We see that a power law is represented as a straight line in a log-log plot. Now let's add titles to the axes and a legend:"
   ]
  },
  {
   "cell_type": "code",
   "execution_count": 40,
   "metadata": {},
   "outputs": [
    {
     "data": {
      "text/plain": [
       "<matplotlib.legend.Legend at 0x7fb064b152d0>"
      ]
     },
     "execution_count": 40,
     "metadata": {},
     "output_type": "execute_result"
    },
    {
     "data": {
      "image/png": "[encoded data removed]",
      "text/plain": [
       "<Figure size 640x480 with 1 Axes>"
      ]
     },
     "metadata": {},
     "output_type": "display_data"
    }
   ],
   "source": [
    "plt.plot(energies, y, label = 'Gamma = 2.5')\n",
    "\n",
    "plt.xscale('log')\n",
    "plt.yscale('log')\n",
    "\n",
    "plt.xlabel('energy [{}]'.format(energies.unit))\n",
    "plt.ylabel('[{}]'.format(y.unit))\n",
    "\n",
    "plt.legend()"
   ]
  },
  {
   "cell_type": "markdown",
   "metadata": {},
   "source": [
    "You see that the y axis is in units TeV⁻¹. It is a differential particle number, how many particles are found in an infinitesimal small bin of with $dE$:\n",
    "$$\\frac{dN}{dE}(E).$$\n",
    "If you want to know how many particles are in the entire particle spectrum then you have to integrate over it:\n",
    "$$ N = \\int_{E_1}^{E_2} \\frac{dN}{dE}(E) dE.$$\n",
    "For a power law it is easy to do the integration analytically. But it may be difficult for more complicated spectra. We can use numpy for a numerical integration."
   ]
  },
  {
   "cell_type": "code",
   "execution_count": 41,
   "metadata": {},
   "outputs": [],
   "source": [
    "N = np.trapz(y, energies)"
   ]
  },
  {
   "cell_type": "code",
   "execution_count": 42,
   "metadata": {},
   "outputs": [
    {
     "data": {
      "text/latex": [
       "$6.9255955 \\times 10^{21} \\; \\mathrm{\\frac{eV}{TeV}}$"
      ],
      "text/plain": [
       "<Quantity 6.92559548e+21 eV / TeV>"
      ]
     },
     "execution_count": 42,
     "metadata": {},
     "output_type": "execute_result"
    }
   ],
   "source": [
    "N"
   ]
  },
  {
   "cell_type": "code",
   "execution_count": 43,
   "metadata": {},
   "outputs": [
    {
     "data": {
      "text/latex": [
       "$6.9255955 \\times 10^{9} \\; \\mathrm{}$"
      ],
      "text/plain": [
       "<Quantity 6.92559548e+09>"
      ]
     },
     "execution_count": 43,
     "metadata": {},
     "output_type": "execute_result"
    }
   ],
   "source": [
    "N.decompose()"
   ]
  },
  {
   "cell_type": "markdown",
   "metadata": {},
   "source": [
    "There are no units as this is simply a particle number. Keep in mind that the trapezoidal rule is not very accurate and depends on the number of points. Having more points would increase the accuracy. Other, more sophisticated integration modules exist for python."
   ]
  },
  {
   "cell_type": "markdown",
   "metadata": {},
   "source": [
    "Similarly we can calculate the total energy in the spectrum. We need to integrate over all energies:\n",
    "$$ E_{tot} = \\int_{E_1}^{E_2} E \\frac{dN}{dE}(E) dE.$$\n",
    "We can achieve this by multiplying the $y$ array with the energies array and then integrate."
   ]
  },
  {
   "cell_type": "code",
   "execution_count": 47,
   "metadata": {},
   "outputs": [],
   "source": [
    "y_2 = y*energies"
   ]
  },
  {
   "cell_type": "code",
   "execution_count": 48,
   "metadata": {},
   "outputs": [],
   "source": [
    "E_tot = np.trapz(y_2, energies)"
   ]
  },
  {
   "cell_type": "code",
   "execution_count": 49,
   "metadata": {},
   "outputs": [
    {
     "data": {
      "text/latex": [
       "$20330.582 \\; \\mathrm{TeV}$"
      ],
      "text/plain": [
       "<Quantity 20330.58193325 TeV>"
      ]
     },
     "execution_count": 49,
     "metadata": {},
     "output_type": "execute_result"
    }
   ],
   "source": [
    "E_tot.to(u.TeV)"
   ]
  },
  {
   "cell_type": "markdown",
   "metadata": {},
   "source": [
    "### Exercise\n",
    "Make a plot of three power laws with indices 1.5, 2.0 and 2.5. Keep the amplitude as above. Do not forget the title on the x-axis and the legend. Calculate the number of particles and the total energy in each spectrum.\n",
    "\n",
    "**[3 marks]**"
   ]
  },
  {
   "cell_type": "code",
   "execution_count": 50,
   "metadata": {},
   "outputs": [],
   "source": [
    "Gammas = [1.5, 2.0, 2.5]"
   ]
  },
  {
   "cell_type": "code",
   "execution_count": 51,
   "metadata": {},
   "outputs": [
    {
     "name": "stdout",
     "output_type": "stream",
     "text": [
      "1.5\t2.0e+04\t2.0e+02 TeV\n",
      "2.0\t1.0e+07\t1.9e+02 TeV\n",
      "2.5\t6.9e+09\t2.0e+04 TeV\n"
     ]
    },
    {
     "data": {
      "text/plain": [
       "<matplotlib.legend.Legend at 0x7fb06492a650>"
      ]
     },
     "execution_count": 51,
     "metadata": {},
     "output_type": "execute_result"
    },
    {
     "data": {
      "image/png": "[encoded data removed]",
      "text/plain": [
       "<Figure size 640x480 with 1 Axes>"
      ]
     },
     "metadata": {},
     "output_type": "display_data"
    }
   ],
   "source": [
    "# fill in your code here\n",
    "for G in Gammas :\n",
    "    PL = PowerLaw1D(A, E_0, G)\n",
    "    y = PL(energies)\n",
    "    plt.loglog(energies, y, label = 'Gamma = {}'.format(G))\n",
    "    N = np.trapz(y,energies)\n",
    "    E_tot = np.trapz(y*energies,energies)\n",
    "    print('{}\\t{:5.1e}\\t{:5.1e}'.format(G,N.decompose(),E_tot.to(u.TeV)))\n",
    "plt.xlabel('energy [{}]'.format(energies.unit))\n",
    "plt.ylabel('[{}]'.format(y.unit))\n",
    "plt.legend()\n",
    "\n",
    "                                                                "
   ]
  },
  {
   "attachments": {
    "Introduction_PLs.png": {
     "image/png": "[encoded data removed]"
    }
   },
   "cell_type": "markdown",
   "metadata": {},
   "source": [
    "Expected output:\n",
    "![Introduction_PLs.png](attachment:Introduction_PLs.png)"
   ]
  },
  {
   "cell_type": "markdown",
   "metadata": {},
   "source": [
    "## Cyclotron Frequency"
   ]
  },
  {
   "cell_type": "markdown",
   "metadata": {},
   "source": [
    "Here are some values fo an example. We will use the geo-magnetic field:"
   ]
  },
  {
   "cell_type": "code",
   "execution_count": 52,
   "metadata": {},
   "outputs": [],
   "source": [
    "B = 40 * u.microTesla"
   ]
  },
  {
   "cell_type": "markdown",
   "metadata": {},
   "source": [
    "The mass of the electron is defined in astropy.constants, we can make use of this:"
   ]
  },
  {
   "cell_type": "code",
   "execution_count": 53,
   "metadata": {},
   "outputs": [
    {
     "data": {
      "text/latex": [
       "$9.1093837 \\times 10^{-31} \\; \\mathrm{kg}$"
      ],
      "text/plain": [
       "<<class 'astropy.constants.codata2018.CODATA2018'> name='Electron mass' value=9.1093837015e-31 uncertainty=2.8e-40 unit='kg' reference='CODATA 2018'>"
      ]
     },
     "execution_count": 53,
     "metadata": {},
     "output_type": "execute_result"
    }
   ],
   "source": [
    "c.m_e"
   ]
  },
  {
   "cell_type": "markdown",
   "metadata": {},
   "source": [
    "The electron has one elementary charge, we do not care about the sign here:"
   ]
  },
  {
   "cell_type": "code",
   "execution_count": 54,
   "metadata": {},
   "outputs": [
    {
     "data": {
      "text/latex": [
       "$1.6021766 \\times 10^{-19} \\; \\mathrm{C}$"
      ],
      "text/plain": [
       "<<class 'astropy.constants.codata2018.EMCODATA2018'> name='Electron charge' value=1.602176634e-19 uncertainty=0.0 unit='C' reference='CODATA 2018'>"
      ]
     },
     "execution_count": 54,
     "metadata": {},
     "output_type": "execute_result"
    }
   ],
   "source": [
    "c.e"
   ]
  },
  {
   "cell_type": "markdown",
   "metadata": {},
   "source": [
    "Let's put everything together:"
   ]
  },
  {
   "cell_type": "code",
   "execution_count": 55,
   "metadata": {},
   "outputs": [
    {
     "ename": "TypeError",
     "evalue": "Constant 'e' does not have physically compatible units across all systems of units and cannot be combined with other values without specifying a system (eg. e.emu)",
     "output_type": "error",
     "traceback": [
      "\u001b[0;31m---------------------------------------------------------------------------\u001b[0m",
      "\u001b[0;31mTypeError\u001b[0m                                 Traceback (most recent call last)",
      "Cell \u001b[0;32mIn[55], line 1\u001b[0m\n\u001b[0;32m----> 1\u001b[0m omega \u001b[38;5;241m=\u001b[39m \u001b[43mc\u001b[49m\u001b[38;5;241;43m.\u001b[39;49m\u001b[43me\u001b[49m\u001b[38;5;241;43m*\u001b[39;49m\u001b[43mB\u001b[49m\u001b[38;5;241m/\u001b[39mc\u001b[38;5;241m.\u001b[39mm_e\n",
      "File \u001b[0;32m~/anaconda3/envs/gammapy-1.2/lib/python3.10/site-packages/astropy/constants/constant.py:49\u001b[0m, in \u001b[0;36mConstantMeta.__new__.<locals>.wrap.<locals>.wrapper\u001b[0;34m(self, *args, **kwargs)\u001b[0m\n\u001b[1;32m     47\u001b[0m \u001b[38;5;28;01mif\u001b[39;00m \u001b[38;5;129;01mnot\u001b[39;00m \u001b[38;5;28mself\u001b[39m\u001b[38;5;241m.\u001b[39msystem \u001b[38;5;129;01mand\u001b[39;00m name_lower \u001b[38;5;129;01min\u001b[39;00m \u001b[38;5;28mself\u001b[39m\u001b[38;5;241m.\u001b[39m_has_incompatible_units:\n\u001b[1;32m     48\u001b[0m     systems \u001b[38;5;241m=\u001b[39m \u001b[38;5;28msorted\u001b[39m(x \u001b[38;5;28;01mfor\u001b[39;00m x \u001b[38;5;129;01min\u001b[39;00m instances \u001b[38;5;28;01mif\u001b[39;00m x)\n\u001b[0;32m---> 49\u001b[0m     \u001b[38;5;28;01mraise\u001b[39;00m \u001b[38;5;167;01mTypeError\u001b[39;00m(\n\u001b[1;32m     50\u001b[0m         \u001b[38;5;124mf\u001b[39m\u001b[38;5;124m\"\u001b[39m\u001b[38;5;124mConstant \u001b[39m\u001b[38;5;132;01m{\u001b[39;00m\u001b[38;5;28mself\u001b[39m\u001b[38;5;241m.\u001b[39mabbrev\u001b[38;5;132;01m!r}\u001b[39;00m\u001b[38;5;124m does not have physically compatible \u001b[39m\u001b[38;5;124m\"\u001b[39m\n\u001b[1;32m     51\u001b[0m         \u001b[38;5;124m\"\u001b[39m\u001b[38;5;124munits across all systems of units and cannot be \u001b[39m\u001b[38;5;124m\"\u001b[39m\n\u001b[1;32m     52\u001b[0m         \u001b[38;5;124m\"\u001b[39m\u001b[38;5;124mcombined with other values without specifying a \u001b[39m\u001b[38;5;124m\"\u001b[39m\n\u001b[1;32m     53\u001b[0m         \u001b[38;5;124mf\u001b[39m\u001b[38;5;124m\"\u001b[39m\u001b[38;5;124msystem (eg. \u001b[39m\u001b[38;5;132;01m{\u001b[39;00m\u001b[38;5;28mself\u001b[39m\u001b[38;5;241m.\u001b[39mabbrev\u001b[38;5;132;01m}\u001b[39;00m\u001b[38;5;124m.\u001b[39m\u001b[38;5;132;01m{\u001b[39;00msystems[\u001b[38;5;241m0\u001b[39m]\u001b[38;5;132;01m}\u001b[39;00m\u001b[38;5;124m)\u001b[39m\u001b[38;5;124m\"\u001b[39m\n\u001b[1;32m     54\u001b[0m     )\n\u001b[1;32m     56\u001b[0m \u001b[38;5;28;01mreturn\u001b[39;00m meth(\u001b[38;5;28mself\u001b[39m, \u001b[38;5;241m*\u001b[39margs, \u001b[38;5;241m*\u001b[39m\u001b[38;5;241m*\u001b[39mkwargs)\n",
      "\u001b[0;31mTypeError\u001b[0m: Constant 'e' does not have physically compatible units across all systems of units and cannot be combined with other values without specifying a system (eg. e.emu)"
     ]
    }
   ],
   "source": [
    "omega = c.e*B/c.m_e"
   ]
  },
  {
   "cell_type": "markdown",
   "metadata": {},
   "source": [
    "Depending on the system you are using the elementary charge has different values and units. So we have to be specific here. All calculations in this course are in standard units, so let's try this."
   ]
  },
  {
   "cell_type": "code",
   "execution_count": 56,
   "metadata": {},
   "outputs": [],
   "source": [
    "omega = c.e.si *B/c.m_e"
   ]
  },
  {
   "cell_type": "code",
   "execution_count": 59,
   "metadata": {},
   "outputs": [
    {
     "data": {
      "text/latex": [
       "$7035280 \\; \\mathrm{\\frac{1}{s}}$"
      ],
      "text/plain": [
       "<Quantity 7035280.04308865 1 / s>"
      ]
     },
     "execution_count": 59,
     "metadata": {},
     "output_type": "execute_result"
    }
   ],
   "source": [
    "omega\n",
    "omega.decompose()"
   ]
  },
  {
   "cell_type": "code",
   "execution_count": 58,
   "metadata": {},
   "outputs": [
    {
     "data": {
      "text/latex": [
       "$7035280 \\; \\mathrm{\\frac{rad}{s}}$"
      ],
      "text/plain": [
       "<Quantity 7035280.04308865 rad / s>"
      ]
     },
     "execution_count": 58,
     "metadata": {},
     "output_type": "execute_result"
    }
   ],
   "source": [
    "omega.to(u.rad/u.s, equivalencies=u.dimensionless_angles())"
   ]
  },
  {
   "cell_type": "markdown",
   "metadata": {},
   "source": [
    "How many cycles per second? We have to devide by the angle of one full circle, $2\\pi$."
   ]
  },
  {
   "cell_type": "code",
   "execution_count": 60,
   "metadata": {},
   "outputs": [
    {
     "data": {
      "text/latex": [
       "$1.1196996 \\times 10^{12} \\; \\mathrm{\\frac{C\\,\\mu T}{kg}}$"
      ],
      "text/plain": [
       "<Quantity 1.11969959e+12 C uT / kg>"
      ]
     },
     "execution_count": 60,
     "metadata": {},
     "output_type": "execute_result"
    }
   ],
   "source": [
    "omega/(2*pi)"
   ]
  },
  {
   "cell_type": "code",
   "execution_count": 61,
   "metadata": {},
   "outputs": [
    {
     "data": {
      "text/latex": [
       "$1.1196996 \\; \\mathrm{MHz}$"
      ],
      "text/plain": [
       "<Quantity 1.11969959 MHz>"
      ]
     },
     "execution_count": 61,
     "metadata": {},
     "output_type": "execute_result"
    }
   ],
   "source": [
    "(omega/(2*pi)).to(u.MHz)"
   ]
  },
  {
   "cell_type": "markdown",
   "metadata": {},
   "source": [
    "### Exercise"
   ]
  },
  {
   "cell_type": "markdown",
   "metadata": {},
   "source": [
    "We will need the cyclotron frequency more often. Please write a function which takes the magnetic field as first parameter, the \"atomic number\" of the particle (-1 for an electron, +1 for a proton, +2 for a Helium nucleus and so on) as 2nd parameter with -1 as default, and the mass as third parameter with the electron mass as default. Return the cyclotron frequency in Hz. Make sure that it is never negative!\n",
    "\n",
    "**[3 marks]**"
   ]
  },
  {
   "cell_type": "code",
   "execution_count": 62,
   "metadata": {},
   "outputs": [],
   "source": [
    "def CyclotronFrequency (B, Z = -1, m = c.m_e) :\n",
    "    \n",
    "    ## fill your code in here:\n",
    "    omega = abs(Z) * c.e.si * B / m\n",
    "\n",
    "\n",
    "    return omega"
   ]
  },
  {
   "cell_type": "markdown",
   "metadata": {},
   "source": [
    "Let's test it:"
   ]
  },
  {
   "cell_type": "code",
   "execution_count": 63,
   "metadata": {},
   "outputs": [
    {
     "data": {
      "text/latex": [
       "$7.03528 \\times 10^{12} \\; \\mathrm{\\frac{C\\,\\mu T}{kg}}$"
      ],
      "text/plain": [
       "<Quantity 7.03528004e+12 C uT / kg>"
      ]
     },
     "execution_count": 63,
     "metadata": {},
     "output_type": "execute_result"
    }
   ],
   "source": [
    "CyclotronFrequency (B)"
   ]
  },
  {
   "cell_type": "markdown",
   "metadata": {},
   "source": [
    "## Submission\n",
    "\n",
    "Before you submit your work you should make a few checks that everything works fine.\n",
    "\n",
    "1. Save your notebook as a PDF (File->Download As->PDF). This document will help you debugging in the next step.\n",
    "1. If PDF export does not work: You can do File->Print Preview and then print to a file.\n",
    "1. Restart the kernel and rerun the entire notebook (Kernel->Restart & Run All). This will delete all variables (but not your code) and rerun the notebook in one go. If this does not go through the endthen you have to fix it. You will see at which cell the run stopped. A common mistake is using a variable that is defined only at a later stage.\n",
    "1. You think you fixed everything? Redo step 2 (Kernel->Restart & Run All)\n",
    "\n",
    "You have to download and submit 2 files, the jupyter notebook and a pdf.\n",
    "- Jupyter notebook. File->Download As->Notebook (.ipynb). Save this file on your disk.\n",
    "- PDF file. File->Download As->PDF. Save this file on your disk.\n",
    "- If PDF export does not work. You can do File->Print Preview and then print to a file.\n",
    "\n",
    "Please submit the two files on Ulwazi."
   ]
  },
  {
   "cell_type": "markdown",
   "metadata": {},
   "source": [
    "Expected output:\n",
    "\n",
    "7035280 rad/s"
   ]
  }
 ],
 "metadata": {
  "kernelspec": {
   "display_name": "Python 3 (ipykernel)",
   "language": "python",
   "name": "python3"
  },
  "language_info": {
   "codemirror_mode": {
    "name": "ipython",
    "version": 3
   },
   "file_extension": ".py",
   "mimetype": "text/x-python",
   "name": "python",
   "nbconvert_exporter": "python",
   "pygments_lexer": "ipython3",
   "version": "3.10.14"
  }
 },
 "nbformat": 4,
 "nbformat_minor": 4
}
