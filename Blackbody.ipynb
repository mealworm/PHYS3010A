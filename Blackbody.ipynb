{
 "cells": [
  {
   "attachments": {},
   "cell_type": "markdown",
   "metadata": {},
   "source": [
    "Name:\n",
    "\n",
    "Student number:"
   ]
  },
  {
   "cell_type": "code",
   "execution_count": null,
   "metadata": {},
   "outputs": [],
   "source": [
    "#from IPython import display\n",
    "#display.Image(\"Fig6.6.png\")"
   ]
  },
  {
   "attachments": {},
   "cell_type": "markdown",
   "metadata": {},
   "source": [
    "# Blackbody Radiation\n",
    "Consider the distribution of photons shown in Fig 6.6 for temperature $T = T_1$ and one polarization. \n",
    "![Fig6.6.png](Fig6.6.png)\n",
    "(a) Check the values illustrated in Fig 6.6 with the expression for the number density as a function of frequency from the lecture notes.\n",
    "Specifically, make a table that gives the following quantities, for six energy states: the three energy states shown in the figure, plus three additional states, $h\\nu_4 = 4kT_1$, $h\\nu_5 = 8kT_1$, $h\\nu_6 = 16kT_1$: \\\n",
    "(i) the number of cells $Z_c$, given a fixed bandwidth and two cells in frequency state 1, \\\n",
    "(ii) the average number $<n_c>$ of photons per cell, \\\n",
    "(iii) the total number of photons $N = <n_c>Z_c$, and \\\n",
    "(iv) the total energy $E = Nh\\nu$ in terms of $kT_1$. Is the figure consistent with your results? \\\n",
    "(b) Make a new table for the situation where the temperature is doubled, $T_2 = 2T_1$. Consider the same six states, $h\\nu_1 = 0.5kT_1$, $h\\nu_2 = 1kT_1$, and so on. Again calculate and tabulate $Z_c$, $<n_c>$, $N$, and $E$, the latter again in terms of $kT_1$. Before tabulating, consider first which of the tabulated quantities should change values when the temperature increases. Comment on the differences in the two tables, including the energy $h\\nu$ (in terms of $kT_1$) at which the total energy peaks."
   ]
  },
  {
   "cell_type": "markdown",
   "metadata": {},
   "source": [
    "## Pre-Requisites\n",
    "As usual, we start with importing the necessary modules. Let's also define our energy states and specify the number of cells in the ground state."
   ]
  },
  {
   "cell_type": "code",
   "execution_count": null,
   "metadata": {},
   "outputs": [],
   "source": [
    "import numpy as np\n",
    "from tabulate import tabulate\n",
    "energy_states = np.array([0.5, 1.0, 2.0, 4.0, 8.0, 16.0])    #E_c/kT_1\n",
    "zc_ground = 2"
   ]
  },
  {
   "cell_type": "markdown",
   "metadata": {},
   "source": [
    "### Exercise 1\n",
    "Given the number of cells in the ground state, let us calculate the number of cells in each of the higher states. Remember that the energy states are spherical shells in momentum space. Note that because we are assuming a fixed bandwith $d\\nu$, we can use the ratio between the number of cells at different frequencies using only the frequency dependence without worrying about the coefficient."
   ]
  },
  {
   "cell_type": "code",
   "execution_count": null,
   "metadata": {},
   "outputs": [],
   "source": [
    "energy_ratio = energy_states/energy_states[0]\n",
    "zc = zc_ground * ???    #Replace ??? with some function of energy_ratio.\n",
    "print(zc)"
   ]
  },
  {
   "cell_type": "markdown",
   "metadata": {},
   "source": [
    "### Exercise 2\n",
    "Let's write a function to calculate the average number of photons in each cell, given the energy state of the cell and the temperature. (Hint: See the figure caption. Use the function np.expm1 for higher precision.)"
   ]
  },
  {
   "cell_type": "code",
   "execution_count": null,
   "metadata": {},
   "outputs": [],
   "source": [
    "def nc(energy_state, kT) : \n",
    "\n",
    "    #your code here\n",
    "    return ???"
   ]
  },
  {
   "cell_type": "markdown",
   "metadata": {},
   "source": [
    "### Exercise 3\n",
    "Now let's calculate the total number of photons in each energy state as a function of the quantities we have just calculated."
   ]
  },
  {
   "cell_type": "code",
   "execution_count": null,
   "metadata": {},
   "outputs": [],
   "source": [
    "def N(zc, nc)\n",
    "\n",
    "    #your code here\n",
    "    return ???"
   ]
  },
  {
   "cell_type": "markdown",
   "metadata": {},
   "source": [
    "## Exercise 4\n",
    "Finally, let's calculate the total energy in each energy state as a function of the total number of photons in each state and its energy."
   ]
  },
  {
   "cell_type": "code",
   "execution_count": null,
   "metadata": {},
   "outputs": [],
   "source": [
    "def E(N, energy_state) :\n",
    "    \n",
    "    # your code here\n",
    "    return ???"
   ]
  },
  {
   "cell_type": "markdown",
   "metadata": {},
   "source": [
    "Let's set $kT=1$ and see what we get."
   ]
  },
  {
   "cell_type": "code",
   "execution_count": null,
   "metadata": {},
   "outputs": [],
   "source": [
    "kT1=1\n",
    "nc1 = nc(energy_states, kT1)\n",
    "N1 = N(zc, nc1)\n",
    "E1 = E(N1, energy_states)\n",
    "table = [energy_states, zc, nc1, N1, E1]\n",
    "print(tabulate(table))"
   ]
  },
  {
   "cell_type": "markdown",
   "metadata": {},
   "source": [
    "The first three values for N1 should be close to the values [3,5,5] from the figure.\n",
    "Now let's do the same for $kT=2$."
   ]
  },
  {
   "cell_type": "code",
   "execution_count": null,
   "metadata": {
    "tags": []
   },
   "outputs": [],
   "source": [
    "kT2=2\n",
    "nc2 = nc(energy_states, kT2)\n",
    "N2 = N(zc, nc2)\n",
    "E2 = E(N2, energy_states)\n",
    "table = [energy_states, zc, nc2, N2, E2]\n",
    "print(tabulate(table))"
   ]
  },
  {
   "cell_type": "markdown",
   "metadata": {},
   "source": [
    "# Exercise 5\n",
    "Which of the tabulated quantities change values when the temperature increases? Comment on the differences in the two tables, including the energy $h\\nu$ (in terms of $kT_1$) at which the total energy peaks."
   ]
  },
  {
   "cell_type": "markdown",
   "metadata": {},
   "source": [
    "Write your answer here:\\\n"
   ]
  },
  {
   "cell_type": "code",
   "execution_count": null,
   "metadata": {},
   "outputs": [],
   "source": []
  }
 ],
 "metadata": {
  "kernelspec": {
   "display_name": "base",
   "language": "python",
   "name": "python3"
  },
  "language_info": {
   "codemirror_mode": {
    "name": "ipython",
    "version": 3
   },
   "file_extension": ".py",
   "mimetype": "text/x-python",
   "name": "python",
   "nbconvert_exporter": "python",
   "pygments_lexer": "ipython3",
   "version": "3.9.7"
  },
  "vscode": {
   "interpreter": {
    "hash": "95f9eaafa776477c679170789673cdb657b512770c25e34fc9c1c2ce5abb8792"
   }
  }
 },
 "nbformat": 4,
 "nbformat_minor": 4
}
